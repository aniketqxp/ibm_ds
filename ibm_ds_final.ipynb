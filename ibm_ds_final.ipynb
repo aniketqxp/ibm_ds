{
 "cells": [
  {
   "cell_type": "markdown",
   "id": "7ff1f14d-1cd2-4e07-a57e-9ad8fcf26399",
   "metadata": {},
   "source": [
    "# Tools for Data Science"
   ]
  },
  {
   "cell_type": "markdown",
   "id": "368b4a11-1855-4530-8bb9-278a5d76678b",
   "metadata": {},
   "source": [
    "This notebook authored by me (Aniket Shinde), comprises some of the most popular tools and libraries in Data Science."
   ]
  },
  {
   "cell_type": "markdown",
   "id": "09abf0f0-a7d4-47d9-8f65-dd348e7f58f5",
   "metadata": {},
   "source": [
    "## Languages used in Data Science:\n",
    "- Python\n",
    "- R\n",
    "- SQL"
   ]
  },
  {
   "cell_type": "markdown",
   "id": "f450b4fe-754d-4e28-b335-97a92bb034ce",
   "metadata": {},
   "source": [
    "## Common Data Science Libraries:\n",
    "- Pandas\n",
    "- NumPy\n",
    "- Scikit-learn"
   ]
  },
  {
   "cell_type": "markdown",
   "id": "d325dd56-dbe4-4756-b206-e00fe0bccd50",
   "metadata": {},
   "source": [
    "## Table of Data Science Tools:\n",
    "\n",
    "| Tool         | Category          |\n",
    "|--------------|-------------------|\n",
    "| JupyterLab   | IDE / Notebook     |\n",
    "| RStudio      | IDE                |\n",
    "| Apache Spark | Big Data Platform |\n",
    "| TensorFlow   | Deep Learning      |\n",
    "| Tableau      | Visualization      |"
   ]
  },
  {
   "cell_type": "markdown",
   "id": "a7d6ab33-c3bc-418a-9819-6e14e230ddb1",
   "metadata": {},
   "source": [
    "## Examples of Arithmetic Expressions in Python:\n",
    "\n",
    "In this section, we demonstrate how arithmetic expressions are evaluated in Python. Operations such as addition, subtraction, multiplication, and division are commonly used in data science."
   ]
  },
  {
   "cell_type": "code",
   "execution_count": 6,
   "id": "38c03940-7d4b-44bf-8775-d0066ac702d4",
   "metadata": {},
   "outputs": [
    {
     "data": {
      "text/plain": [
       "17"
      ]
     },
     "execution_count": 6,
     "metadata": {},
     "output_type": "execute_result"
    }
   ],
   "source": [
    "# multiplication and addition\n",
    "(3 * 4) + 5"
   ]
  },
  {
   "cell_type": "code",
   "execution_count": 4,
   "id": "191d3e63-f6e0-4682-a3ac-e0dde65775eb",
   "metadata": {},
   "outputs": [
    {
     "data": {
      "text/plain": [
       "4.0"
      ]
     },
     "execution_count": 4,
     "metadata": {},
     "output_type": "execute_result"
    }
   ],
   "source": [
    "# 200 minutes to hours\n",
    "240 / 60"
   ]
  },
  {
   "cell_type": "markdown",
   "id": "a30f5b39-fe77-4c36-9053-6a5c70bc9e29",
   "metadata": {},
   "source": [
    "## Objectives:\n",
    "\n",
    "- List popular languages used in Data Science\n",
    "- Identify commonly used Data Science libraries\n",
    "- Create a table of Data Science tools\n",
    "- Demonstrate arithmetic expressions using Python code\n",
    "- Share notebook publicly via GitHub"
   ]
  },
  {
   "cell_type": "markdown",
   "id": "04329ede-943c-4af6-9c74-1276ef0febed",
   "metadata": {},
   "source": [
    "**Author:** Aniket Shinde"
   ]
  },
  {
   "cell_type": "code",
   "execution_count": null,
   "id": "8e347ef8-80b7-496b-b5cd-ce92ec9b329e",
   "metadata": {},
   "outputs": [],
   "source": []
  }
 ],
 "metadata": {
  "kernelspec": {
   "display_name": "Python 3 (ipykernel)",
   "language": "python",
   "name": "python3"
  },
  "language_info": {
   "codemirror_mode": {
    "name": "ipython",
    "version": 3
   },
   "file_extension": ".py",
   "mimetype": "text/x-python",
   "name": "python",
   "nbconvert_exporter": "python",
   "pygments_lexer": "ipython3",
   "version": "3.12.8"
  }
 },
 "nbformat": 4,
 "nbformat_minor": 5
}
